{
  "nbformat": 4,
  "nbformat_minor": 0,
  "metadata": {
    "colab": {
      "provenance": []
    },
    "kernelspec": {
      "name": "python3",
      "display_name": "Python 3"
    },
    "language_info": {
      "name": "python"
    }
  },
  "cells": [
    {
      "cell_type": "code",
      "execution_count": null,
      "metadata": {
        "id": "DuLt0_DOoahd"
      },
      "outputs": [],
      "source": [
        "# 1. Explain the different types of data (qualitative and quantitative) and provide examples of each. Discuss\n",
        "# nominal, ordinal, interval, and ratio scales."
      ]
    },
    {
      "cell_type": "markdown",
      "source": [
        "\n",
        "Data can be broadly categorized into two types: qualitative and quantitative.\n",
        "\n",
        "1. Qualitative Data (also called Categorical Data):\n",
        "This type of data is descriptive and used to categorize or label attributes, characteristics, or qualities. It deals with non-numeric information.\n",
        "\n",
        "Examples of Qualitative Data:\n",
        "Colors of cars: red, blue, green.\n",
        "Genres of movies: action, drama, comedy.\n",
        "Gender: male, female, non-binary.\n",
        "Qualitative data can be divided into two types of scales:\n",
        "\n",
        "**Nominal Scale:**\n",
        "The nominal scale is the simplest form of measurement. It categorizes data without any kind of order or ranking.\n",
        "\n",
        "Example: Hair color (brown, black, blonde). There’s no inherent order in these categories; they are just different types.\n",
        "\n",
        "**Ordinal Scale**:\n",
        "bold textThe ordinal scale not only categorizes but also allows you to rank the data in some order. However, the distances between the ranks aren’t necessarily equal.\n",
        "\n",
        "Example: Survey responses like \"very satisfied,\" \"satisfied,\" \"neutral,\" \"dissatisfied,\" and \"very dissatisfied.\" We can tell that \"very satisfied\" is better than \"neutral,\" but we don't know the exact difference between them.\n",
        "\n",
        "\n",
        "\n",
        "2. Quantitative Data (also called Numerical Data):\n",
        "Quantitative data represents numerical values that can be measured and quantified. It tells us \"how much\" or \"how many\" of something there is.\n",
        "\n",
        "\n",
        "Examples of Quantitative Data:\n",
        "Age: 25 years old, 30 years old.\n",
        "Height: 5 feet 10 inches, 6 feet.\n",
        "Income: $40,000, $60,000.\n",
        "\n",
        "Quantitative data can be classified into two types of scales:\n",
        "\n",
        "**Interval Scale**:\n",
        "\n",
        "The interval scale involves numeric values where both the order and the exact differences between the values are meaningful. However, it lacks a true zero point.\n",
        "\n",
        "Example: Temperature in Celsius or Fahrenheit. The difference between 10°C and 20°C is the same as the difference between 20°C and 30°C, but zero degrees doesn’t mean “no temperature.”\n",
        "\n",
        "\n",
        "\n",
        "**Ratio Scale**:\n",
        "\n",
        "The ratio scale is the most advanced level of measurement. It has all the characteristics of the interval scale, but with a true zero point, meaning you can make meaningful statements about ratios (e.g., twice as much, half as much).\n",
        "\n",
        "\n",
        "\n",
        "Example: Weight (50 kg, 100 kg), Length (5 meters, 10 meters). A weight of 0 kg means no weight, and 100 kg is twice as much as 50 kg."
      ],
      "metadata": {
        "id": "1lXDjvswpM-u"
      }
    },
    {
      "cell_type": "markdown",
      "source": [],
      "metadata": {
        "id": "6hLfHEmkpxWy"
      }
    },
    {
      "cell_type": "code",
      "source": [
        "# 2. What are the measures of central tendency, and when should you use each? Discuss the mean, median,\n",
        "# and mode with examples and situations where each is appropriate."
      ],
      "metadata": {
        "id": "72o66zAzrRTV"
      },
      "execution_count": null,
      "outputs": []
    },
    {
      "cell_type": "markdown",
      "source": [
        "**Measures of central tendency are statistical tools used to describe the center or typical value of a dataset. They help summarize a set of data by identifying a central point around which the data tend to cluster. The three main measures of central tendency are the mean, median, and mode**\n",
        "\n",
        "1. Mean (Average):\n",
        "The mean is the sum of all the values in a dataset divided by the number of values. It gives us a general idea of the \"central\" value of the data.\n",
        "\n",
        "Formula:\n",
        "Mean\n",
        "=\n",
        "(Sum of all values)\n",
        "/(Number of values)\n",
        "\n",
        "\n",
        "Example: Imagine you have the following ages: 20, 22, 24, 25, and 29.\n",
        "\n",
        "Sum of ages: 20 + 22 + 24 + 25 + 29 = 120\n",
        "Number of values: 5\n",
        "Mean: 120 ÷ 5 = 24\n",
        "\n",
        "When to use the Mean: The mean is most appropriate when the data is symmetrical and does not have extreme outliers. This is because outliers (extremely high or low values) can skew the mean, making it unrepresentative of the central tendency.\n",
        "\n",
        "\n",
        "Example situation: Calculating the average score of students on a test. If the scores are distributed fairly evenly, the mean is a good representation of the \"average\" score.\n",
        "\n",
        "\n",
        "**Not ideal for**: Data with extreme outliers (e.g., average income in a city where one person is a billionaire). The outliers could heavily skew the mean.\n",
        "\n",
        "\n",
        "\n",
        "**2. Median**:\n",
        "The median is the middle value in a dataset when the values are ordered from smallest to largest (or vice versa). If the dataset has an odd number of values, the median is the middle one. If the dataset has an even number of values, the median is the average of the two middle values.\n",
        "\n",
        "Example: For the ages 20, 22, 24, 25, and 29, the ordered data is already: 20, 22, 24, 25, 29.\n",
        "\n",
        "The middle value (3rd value) is 24.\n",
        "\n",
        "If the data were 20, 22, 24, 25, 29, 30, the middle values would be 24 and 25. The median would be the average of these two: (24 + 25) ÷ 2 = 24.5.\n",
        "\n",
        "\n",
        "**When to use the Median**: The median is useful when the data is skewed or contains outliers. Since the median depends on the position of values rather than their magnitude, it’s less affected by extreme values.\n",
        "\n",
        "Example situation: A real estate market with some extremely expensive houses. The median price will give a better sense of the typical house price than the mean, which could be skewed by the few very expensive properties.\n",
        "\n",
        "**Not ideal for**: Symmetrical data or when you are interested in the exact \"average\" (mean) of the data.\n",
        "\n",
        "\n",
        "\n",
        "\n",
        " 3. **Mode**:\n",
        "The mode is the value that appears most frequently in a dataset. Unlike the mean and median, the mode is a measure of the most common value, not the \"average.\"\n",
        "\n",
        "Example: For the numbers 2, 3, 3, 5, 7, 7, 7, the mode is 7, as it appears most frequently.\n",
        "\n",
        "**When to use the Mode**: The mode is useful when you are interested in identifying the most common or popular item in a dataset. It is especially helpful for categorical data or data with repeated values.\n",
        "\n",
        "Example situation: In a survey of people's favorite color, if 50 people choose blue, 30 choose red, and 20 choose green, the mode would be blue, indicating the most popular color.\n",
        "\n",
        "**Not ideal for**: Continuous data or when data values are unique and don’t repeat.\n",
        "\n"
      ],
      "metadata": {
        "id": "jHd2FBxSrmnY"
      }
    },
    {
      "cell_type": "code",
      "source": [],
      "metadata": {
        "id": "S1LboC1rsLU3"
      },
      "execution_count": null,
      "outputs": []
    },
    {
      "cell_type": "code",
      "source": [
        "# 3. Explain the concept of dispersion. How do variance and standard deviation measure the spread of data?"
      ],
      "metadata": {
        "id": "WzV7tVhEtvn2"
      },
      "execution_count": 1,
      "outputs": []
    },
    {
      "cell_type": "markdown",
      "source": [
        "**Dispersion refers to the spread or variability of data points in a dataset. It shows how much individual data values differ from the central value (like the mean). While measures like the mean, median, and mode tell us where the center of the data lies, dispersion helps us understand how spread out or concentrated the data is around that central point.**\n",
        "\n",
        "1. **Variance**:\n",
        "Variance is a measure of how far each data point in a dataset is from the mean and, therefore, how spread out the data points are.\n",
        "\n",
        "Interpretation: The variance gives a general measure of spread, but it is in squared units, which may not be as intuitive as other measures like the standard deviation.\n",
        "\n",
        "2.**Standard Deviation**:\n",
        "The standard deviation is simply the square root of the variance. It gives a more direct interpretation of the spread of the data because it’s in the same units as the data itself (unlike variance, which is in squared units).\n",
        "\n",
        "Interpretation: The standard deviation tells us, on average, how far each data point is from the mean.\n",
        "\n",
        "How Variance and Standard Deviation Measure the Spread of Data:\n",
        "\n",
        "**Variance** measures the average squared deviation from the mean, giving an overall idea of data spread. However, it’s in squared units, making it harder to interpret.\n",
        "\n",
        "**Standard Deviation**, derived from variance, measures the average distance of data points from the mean in the original units of the data. This makes it more intuitive and easier to understand compared to variance.\n",
        "\n",
        "When to Use Variance or Standard Deviation:\n",
        "\n",
        "**Standard Deviation** is generally preferred when you want to understand the spread in the same units as the data. It is commonly used in practical applications like financial markets, educational testing, and scientific measurements.\n",
        "\n",
        "Example: In a test of students' scores, if the standard deviation is high, students' scores are more spread out, meaning there is more variation in how well they performed.\n",
        "\n",
        "\n",
        "**Variance** is useful in theoretical or mathematical contexts and when comparing different datasets. It is often used in statistical models, such as in regression analysis, or when calculating other measures like the coefficient of variation.\n"
      ],
      "metadata": {
        "id": "8r2wPH7Etu99"
      }
    },
    {
      "cell_type": "code",
      "source": [],
      "metadata": {
        "id": "jmL_HMBduWC9"
      },
      "execution_count": null,
      "outputs": []
    },
    {
      "cell_type": "code",
      "source": [
        "# 4. What is a box plot, and what can it tell you about the distribution of data?"
      ],
      "metadata": {
        "id": "bbyd-CzUwQPl"
      },
      "execution_count": null,
      "outputs": []
    },
    {
      "cell_type": "markdown",
      "source": [
        "**Box Plot:\n",
        "A box plot (also known as a box-and-whisker plot) is a graphical representation of the distribution of a dataset that visually summarizes its key statistical features. It provides a way to display the range, median, and quartiles of the data, as well as highlight any outliers.**\n",
        "\n",
        "A typical box plot consists of:\n",
        "\n",
        "**Box**: The central box represents the interquartile range (IQR), which contains the middle 50% of the data. The box is drawn between the first quartile (Q1) and the third quartile (Q3).\n",
        "\n",
        "  - Q1 (Lower Quartile): The median of the lower half of the data.\n",
        "  \n",
        "  - Q3 (Upper Quartile): The median of the upper half of the data.\n",
        "\n",
        "**Median Line**: A line inside the box indicates the median\n",
        "\n",
        "  - (Q2), which is the middle value of the dataset when ordered.\n",
        "\n",
        "**Whiskers**: The lines extending from the box are called \"whiskers,\" which represent the range of the data, excluding outliers. They typically extend to the minimum and maximum values within 1.5 times the IQR from the quartiles.\n",
        "\n",
        "  - Minimum: The smallest data point within the whiskers.\n",
        "  - Maximum: The largest data point within the whiskers.\n",
        "\n",
        "**Outliers**: Any data points that fall outside the range defined by the whiskers (1.5 times the IQR) are considered outliers and are often represented as individual points outside the whiskers.\n",
        "\n",
        "What Can a Box Plot Tell You About the Distribution of Data?\n",
        "A box plot provides a lot of useful information about the distribution and spread of the data:\n",
        "\n",
        "**Central Tendency**:\n",
        "\n",
        "  - The median (middle line inside the box) gives you the central value of the data. If the data is symmetrically distributed, the median will be in the center of the box.\n",
        "**Spread of the Data**:\n",
        "\n",
        "  - The interquartile range (IQR), represented by the length of the box, tells you where the middle 50% of the data lies. A larger IQR indicates more spread, while a smaller IQR indicates less spread.\n",
        "\n",
        "**Range**:\n",
        "\n",
        " - The whiskers show the overall spread of the data, from the minimum to the maximum value (excluding outliers). This gives you a sense of the range of the dataset.\n",
        "\n",
        "**Skewness**:\n",
        "\n",
        "  - By comparing the position of the median inside the box, you can determine whether the data is skewed:\n",
        "    - If the median is near the center of the box, the data is likely symmetrical.\n",
        "    - If the median is closer to Q1, the data is positively skewed (right skewed), meaning there are more smaller values.\n",
        "    - If the median is closer to Q3, the data is negatively skewed (left skewed), meaning there are more larger values.\n",
        "\n",
        "**Outliers**:\n",
        "\n",
        "  - Data points outside the whiskers (beyond 1.5 times the IQR) are identified as outliers. These are values that are significantly different from the rest of the data and may require further investigation.\n"
      ],
      "metadata": {
        "id": "Kk3mJIp8wr-G"
      }
    },
    {
      "cell_type": "code",
      "source": [],
      "metadata": {
        "id": "3-hHh5Hhx37k"
      },
      "execution_count": null,
      "outputs": []
    },
    {
      "cell_type": "code",
      "source": [
        "# 5. Discuss the role of random sampling in making inferences about populations."
      ],
      "metadata": {
        "id": "TvBFLRlUyBIX"
      },
      "execution_count": 2,
      "outputs": []
    },
    {
      "cell_type": "markdown",
      "source": [
        "**Random sampling involves selecting individuals from a population in such a way that each person has an equal chance of being chosen. This process is essential for making reliable inferences about a larger population based on a smaller sample.**\n",
        "\n",
        "Why Random Sampling is Important:\n",
        "\n",
        "  - Reduces Bias: Ensures the sample represents the population, avoiding skewed results.\n",
        "\n",
        "Example: Randomly selecting survey participants avoids bias from a specific group.\n",
        "\n",
        "  - Represents the Population: Increases the likelihood that the sample reflects the entire population.\n",
        "\n",
        "Foundation for Statistical Inference: Helps in estimating population parameters and testing hypotheses based on sample data.\n",
        "\n",
        "\n",
        "Estimating Population Parameters:\n",
        "\n",
        "  - Random sampling allows us to estimate population characteristics (e.g., mean income) from the sample.\n",
        "\n",
        "Example: A random sample of voters can help estimate support for a policy in the whole population.\n",
        "\n",
        "  - Reducing Sampling Error: Ensures the sample is representative, minimizing errors in estimation.\n",
        "\n",
        "Confidence Intervals: With random sampling, we can create confidence intervals around estimates, showing where the true population value likely lies."
      ],
      "metadata": {
        "id": "L5BCEVk0yrHR"
      }
    },
    {
      "cell_type": "code",
      "source": [],
      "metadata": {
        "id": "TqVahLdPyCqf"
      },
      "execution_count": null,
      "outputs": []
    },
    {
      "cell_type": "code",
      "source": [
        "# 6. Explain the concept of skewness and its types. How does skewness affect the interpretation of data?"
      ],
      "metadata": {
        "id": "T6rg0rDzzMBi"
      },
      "execution_count": null,
      "outputs": []
    },
    {
      "cell_type": "markdown",
      "source": [
        "**Skewness refers to the asymmetry or lack of symmetry in a dataset's distribution. It tells us whether the data is skewed (or lopsided) toward the left or the right of the mean. A skewed distribution means that the data is not evenly spread around the center.**\n",
        "\n",
        "Types of Skewness:\n",
        "\n",
        "**Positive Skew (Right Skew)**:\n",
        "\n",
        "   - Tail on the right is longer.\n",
        "\n",
        "   - Mean > Median.\n",
        "\n",
        "Example: Income distribution.\n",
        "\n",
        "**Negative Skew (Left Skew)**:\n",
        "\n",
        "   - Tail on the left is longer.\n",
        "\n",
        "   - Mean < Median.\n",
        "Example: Age at retirement.\n",
        "\n",
        "**Symmetrical Distribution**:\n",
        "\n",
        "   - No skew, and mean = median.\n",
        "Example: Normal distribution.\n",
        "\n",
        "Impact of Skewness on Interpretation:\n",
        "\n",
        "In skewed data, the mean is affected by extreme values.\n",
        "\n",
        "The median is often a better measure of central tendency.\n",
        "\n",
        "Positive skew: Few high values pull the mean up.\n",
        "\n",
        "Negative skew: Few low values pull the mean down.\n",
        "\n",
        "\n",
        "Skewness guides you to use the median for better accuracy when data is not symmetric.\n",
        "\n",
        "\n"
      ],
      "metadata": {
        "id": "89-055WxzMT6"
      }
    },
    {
      "cell_type": "code",
      "source": [],
      "metadata": {
        "id": "EuoZS7eV0YNC"
      },
      "execution_count": null,
      "outputs": []
    },
    {
      "cell_type": "code",
      "source": [
        "# 7. What is the interquartile range (IQR), and how is it used to detect outliers?"
      ],
      "metadata": {
        "id": "rWsFE61H0e_x"
      },
      "execution_count": null,
      "outputs": []
    },
    {
      "cell_type": "markdown",
      "source": [
        "### **Interquartile Range (IQR) and Outliers**\n",
        "\n",
        "The **Interquartile Range (IQR)** is a measure of statistical dispersion that represents the range within which the middle 50% of the data lies. It is the difference between the **third quartile (Q3)** and the **first quartile (Q1)** of a dataset.\n",
        "\n",
        "- **IQR = Q3 - Q1**\n",
        "\n",
        "- **Q1 (First Quartile)**: The median of the lower half of the data (25th percentile).\n",
        "- **Q3 (Third Quartile)**: The median of the upper half of the data (75th percentile).\n",
        "\n",
        "---\n",
        "\n",
        "### **Using IQR to Detect Outliers:**\n",
        "\n",
        "Outliers are data points that are significantly different from the rest of the data. The IQR is used to identify these outliers by setting thresholds outside which data points are considered outliers.\n",
        "\n",
        "- **Lower Bound**: Any data point less than **Q1 - 1.5 * IQR**.\n",
        "- **Upper Bound**: Any data point greater than **Q3 + 1.5 * IQR**.\n",
        "\n",
        "### **Outlier Detection Example**:\n",
        "- **Step 1**: Calculate the IQR (Q3 - Q1).\n",
        "- **Step 2**: Identify the lower and upper bounds using the formulas above.\n",
        "- **Step 3**: Any data points outside these bounds are considered **outliers**.\n",
        "\n"
      ],
      "metadata": {
        "id": "mjjaf7Vh0lLH"
      }
    },
    {
      "cell_type": "code",
      "source": [],
      "metadata": {
        "id": "pvMBoibU1z0D"
      },
      "execution_count": null,
      "outputs": []
    },
    {
      "cell_type": "code",
      "source": [
        "# 8. Discuss the conditions under which the binomial distribution is used."
      ],
      "metadata": {
        "id": "jBNYhWJR1zsZ"
      },
      "execution_count": null,
      "outputs": []
    },
    {
      "cell_type": "markdown",
      "source": [
        "\n",
        "The **binomial distribution** is used when certain conditions are met in a given experiment or process. These conditions ensure that the situation follows the binomial model. The conditions are:\n",
        "\n",
        "1. **Fixed Number of Trials**: The experiment is repeated a specific number of times (n). Each trial is independent of the others.\n",
        "\n",
        "   - **Example**: Flipping a coin 10 times.\n",
        "\n",
        "2. **Two Possible Outcomes**: Each trial has exactly two possible outcomes, commonly referred to as \"success\" and \"failure.\"\n",
        "\n",
        "   - **Example**: Flipping a coin (heads = success, tails = failure).\n",
        "\n",
        "3. **Constant Probability of Success**: The probability of success (p) is the same for each trial.\n",
        "\n",
        "   - **Example**: If the probability of getting heads in a coin flip is 0.5, this probability remains constant for every flip.\n",
        "\n",
        "4. **Independent Trials**: The outcome of one trial does not affect the outcome of other trials.\n",
        "\n",
        "   - **Example**: Whether the first coin flip is heads or tails doesn't influence the second flip.\n",
        "\n",
        "\n",
        " **When to Use the Binomial Distribution:**\n",
        "\n",
        "The binomial distribution is appropriate when you want to calculate the probability of getting a certain number of successes in a fixed number of trials, with a consistent probability of success on each trial.\n",
        "\n",
        "- **Example**: Finding the probability of getting exactly 3 heads in 5 flips of a fair coin.\n",
        "\n"
      ],
      "metadata": {
        "id": "d1797X-e2pow"
      }
    },
    {
      "cell_type": "code",
      "source": [],
      "metadata": {
        "id": "tRcf1UdU2yvU"
      },
      "execution_count": null,
      "outputs": []
    },
    {
      "cell_type": "code",
      "source": [
        "# 9. Explain the properties of the normal distribution and the empirical rule (68-95-99.7 rule)."
      ],
      "metadata": {
        "id": "Eug891Sr3BGl"
      },
      "execution_count": null,
      "outputs": []
    },
    {
      "cell_type": "markdown",
      "source": [
        "The **normal distribution** is one of the most important and widely used probability distributions in statistics. It has several key properties:\n",
        "\n",
        "1. **Symmetry**: The normal distribution is symmetrical around its mean, meaning the left and right sides of the distribution are mirror images of each other.\n",
        "   - The mean, median, and mode all lie at the center of the distribution.\n",
        "\n",
        "2. **Bell-Shaped Curve**: The distribution follows a bell-shaped curve, where most of the data points are clustered around the mean, and fewer data points exist as you move further away from the center.\n",
        "\n",
        "3. **Defined by Mean and Standard Deviation**: The normal distribution is fully characterized by two parameters:\n",
        "   - **Mean (μ)**: The center of the distribution.\n",
        "   - **Standard deviation (σ)**: Measures the spread of the data. A larger standard deviation results in a wider, flatter curve, while a smaller standard deviation makes the curve narrower and taller.\n",
        "\n",
        "4. **Asymptotic**: The tails of the normal distribution curve extend infinitely in both directions but never touch the horizontal axis.\n",
        "\n",
        "5. **68-95-99.7 Rule**: This rule, also known as the **Empirical Rule**, describes how data is distributed in a normal distribution.\n",
        "\n",
        "**The Empirical Rule (68-95-99.7 Rule)**\n",
        "\n",
        "The **Empirical Rule** is a guideline that describes how data is spread in a normal distribution:\n",
        "\n",
        "1. **68%** of the data lies within **1 standard deviation** of the mean.\n",
        "2. **95%** of the data lies within **2 standard deviations** of the mean.\n",
        "3. **99.7%** of the data lies within **3 standard deviations** of the mean.\n",
        "\n",
        "\n",
        "\n",
        "### **Example**:\n",
        "If the heights of a group of people are normally distributed with a mean of 170 cm and a standard deviation of 10 cm:\n",
        "- **68%** of people will have heights between **160 cm and 180 cm**.\n",
        "- **95%** will have heights between **150 cm and 190 cm**.\n",
        "- **99.7%** will have heights between **140 cm and 200 cm**.\n",
        "\n"
      ],
      "metadata": {
        "id": "k4DZaWiX3Bnn"
      }
    },
    {
      "cell_type": "code",
      "source": [],
      "metadata": {
        "id": "-oLCCT3k3RlV"
      },
      "execution_count": null,
      "outputs": []
    },
    {
      "cell_type": "code",
      "source": [
        "# 10. Provide a real-life example of a Poisson process and calculate the probability for a specific event."
      ],
      "metadata": {
        "id": "HgTZnKf33UQD"
      },
      "execution_count": null,
      "outputs": []
    },
    {
      "cell_type": "markdown",
      "source": [
        "A **Poisson process** describes events that happen randomly and independently over time or space, with a known average rate. It’s often used to model rare events that occur at a constant rate.\n",
        "\n",
        "**Example**: **Number of customer arrivals at a coffee shop**\n",
        "\n",
        "Suppose a coffee shop observes that, on average, 3 customers arrive every 10 minutes. This can be modeled as a Poisson process where the events (customer arrivals) happen independently and at a constant average rate.\n",
        "\n",
        "\n",
        "\n",
        "**Problem: Calculate the Probability of 4 Customers Arriving in 10 Minutes**\n",
        "\n",
        "Given:\n",
        "- Average arrival rate (λ) = 3 customers per 10 minutes\n",
        "- We want to find the probability of exactly **4 customers** arriving in the next 10 minutes.\n",
        "\n",
        "The **Poisson distribution** formula is:\n",
        "\n",
        "\\[\n",
        "P(X = k) = \\frac{\\lambda^k e^{-\\lambda}}{k!}\n",
        "\\]\n",
        "\n",
        "Where:\n",
        "- \\( P(X = k) \\) is the probability of exactly \\( k \\) events.\n",
        "- \\( \\lambda \\) is the average rate (mean) of events.\n",
        "- \\( k \\) is the number of events we are interested in.\n",
        "- \\( e \\) is Euler’s number (approximately 2.71828).\n",
        "\n",
        "In this case:\n",
        "- \\( \\lambda = 3 \\) (average number of customers in 10 minutes)\n",
        "- \\( k = 4 \\) (we want to find the probability of exactly 4 customers)\n",
        "\n",
        "**Step-by-Step Calculation**:\n",
        "\n",
        "1. **Substitute values** into the Poisson formula:\n",
        "   \\[\n",
        "   P(X = 4) = \\frac{3^4 e^{-3}}{4!}\n",
        "   \\]\n",
        "\n",
        "2. **Calculate each component**:\n",
        "   - \\( 3^4 = 81 \\)\n",
        "   - \\( e^{-3} \\approx 0.0498 \\)\n",
        "   - \\( 4! = 4 \\times 3 \\times 2 \\times 1 = 24 \\)\n",
        "\n",
        "3. **Put it all together**:\n",
        "   \\[\n",
        "   P(X = 4) = \\frac{81 \\times 0.0498}{24} \\approx 0.168\n",
        "   \\]\n",
        "\n",
        " **Answer**:\n",
        "The probability of exactly 4 customers arriving at the coffee shop in 10 minutes is approximately **0.168**, or **16.8%**.\n",
        "\n"
      ],
      "metadata": {
        "id": "-mXslW4C3fVf"
      }
    },
    {
      "cell_type": "code",
      "source": [],
      "metadata": {
        "id": "Bq-utkxA4JLw"
      },
      "execution_count": null,
      "outputs": []
    },
    {
      "cell_type": "code",
      "source": [
        "# 11. Explain what a random variable is and differentiate between discrete and continuous random variables."
      ],
      "metadata": {
        "id": "VTtfdKzc4L5q"
      },
      "execution_count": null,
      "outputs": []
    },
    {
      "cell_type": "markdown",
      "source": [
        "A random variable is a numerical outcome of a random experiment or process. It assigns a number to each possible outcome of an experiment, allowing us to quantify uncertainty and analyze the results statistically. Random variables are categorized into two main types: discrete and continuous.\n",
        "\n",
        "| **Feature**                    | **Discrete Random Variables**                      | **Continuous Random Variables**                              |\n",
        "|---------------------------------|------------------------------------------------------------|--------------------------------------------------------------|\n",
        "| **Definition**                  | Takes countable, distinct values.                          | Takes any value within a given range or interval.             |\n",
        "| **Possible Values**             | Finite or countably infinite values (e.g., 0, 1, 2, 3…).   | Uncountable values (e.g., any real number within a range).    |\n",
        "| **Examples**                    | Number of students in a class, dice roll, cars passing a checkpoint. | Height, weight, temperature, time taken for an event.        |\n",
        "| **Type of Distribution**        | Described by a **Probability Mass Function (PMF)**.        | Described by a **Probability Density Function (PDF)**.        |\n",
        "| **Probability Representation**  | Probability assigned to specific values (e.g., P(X = 3)).  | Probability assigned to ranges or intervals (e.g., P(2 < X < 5)). |\n",
        "| **Measure of Probability**      | Exact probability for specific outcomes.                   | Probability for intervals of values, not exact numbers.        |\n",
        "| **Data Type**                   | Countable (integer values).                               | Uncountable (real numbers).                                  |\n",
        "| **Examples of Questions**       | What is the probability of rolling a 3 on a die?           | What is the probability of a person’s height being between 5.5 and 6 feet? |\n",
        "\n",
        "\n"
      ],
      "metadata": {
        "id": "iFmo1Aq14apl"
      }
    },
    {
      "cell_type": "code",
      "source": [],
      "metadata": {
        "id": "EXPSiz3A5KIk"
      },
      "execution_count": null,
      "outputs": []
    },
    {
      "cell_type": "code",
      "source": [
        "# 12. Provide an example dataset, calculate both covariance and correlation, and interpret the results."
      ],
      "metadata": {
        "id": "GGLfifPj5RUW"
      },
      "execution_count": null,
      "outputs": []
    },
    {
      "cell_type": "code",
      "source": [
        "import numpy as np\n",
        "\n",
        "# Given dataset: Heights (in cm) and Weights (in kg)\n",
        "heights = np.array([160, 170, 180, 190, 200])  # Heights in cm\n",
        "weights = np.array([55, 65, 75, 85, 95])  # Weights in kg\n",
        "\n",
        "# Calculate means\n",
        "mean_height = np.mean(heights)\n",
        "mean_weight = np.mean(weights)\n",
        "\n",
        "# Calculate Covariance\n",
        "covariance = np.mean((heights - mean_height) * (weights - mean_weight))\n",
        "\n",
        "# Calculate Standard Deviations\n",
        "std_dev_height = np.std(heights)\n",
        "std_dev_weight = np.std(weights)\n",
        "\n",
        "# Calculate Correlation\n",
        "correlation = covariance / (std_dev_height * std_dev_weight)\n",
        "\n",
        "# Output results\n",
        "print(f\"Covariance: {covariance}\")\n",
        "print(f\"Correlation: {correlation}\")\n"
      ],
      "metadata": {
        "colab": {
          "base_uri": "https://localhost:8080/"
        },
        "id": "UJkyErUu5uNc",
        "outputId": "5dcf733d-05b2-4502-bf77-0233b819b335"
      },
      "execution_count": 3,
      "outputs": [
        {
          "output_type": "stream",
          "name": "stdout",
          "text": [
            "Covariance: 200.0\n",
            "Correlation: 0.9999999999999999\n"
          ]
        }
      ]
    },
    {
      "cell_type": "markdown",
      "source": [
        "**Interpretation of the Results:**\n",
        "\n",
        "Given the **covariance** and **correlation** values:\n",
        "\n",
        "- **Covariance: 200.0**\n",
        "- **Correlation: 1.0**\n",
        "\n",
        "**1. Covariance: 200.0**\n",
        "\n",
        "- **What it tells us**: Covariance is a measure of the relationship between two variables (in this case, height and weight). Since the covariance is **positive**, it indicates that as the height of individuals increases, their weight also increases. This suggests that there is a **positive relationship** between height and weight in this dataset.\n",
        "\n",
        "- **Limitations of covariance**:\n",
        "  - The value itself (200.0) is difficult to interpret on its own because covariance depends on the scale of the variables. For instance, if the units of height were in meters instead of centimeters, the covariance would be different.\n",
        "  - Thus, **covariance** only tells us the **direction** (positive or negative) of the relationship, but not the **strength** or **consistency** of the relationship.\n",
        "\n",
        "**2. Correlation: 1.0**\n",
        "\n",
        "- **What it tells us**: A **correlation of 1.0** indicates a **perfect positive linear relationship** between height and weight. This means that as height increases, weight increases in a perfectly predictable and proportional manner. In other words, if you know someone's height, you can exactly predict their weight based on this dataset.\n",
        "\n",
        "- **Strength of the relationship**: A correlation of **1.0** means the relationship is **strong and perfect**. There is no deviation from the linear relationship, and all data points lie exactly on a straight line.\n",
        "\n"
      ],
      "metadata": {
        "id": "n9dWWy2d52_5"
      }
    },
    {
      "cell_type": "code",
      "source": [],
      "metadata": {
        "id": "F33Iyirw5u1Q"
      },
      "execution_count": null,
      "outputs": []
    }
  ]
}